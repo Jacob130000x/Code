{
  "nbformat": 4,
  "nbformat_minor": 0,
  "metadata": {
    "colab": {
      "name": "Kmeans.ipynb",
      "provenance": [],
      "authorship_tag": "ABX9TyOzNJ5Mowg5ij92Gz9WaAkq",
      "include_colab_link": true
    },
    "kernelspec": {
      "name": "python3",
      "display_name": "Python 3"
    }
  },
  "cells": [
    {
      "cell_type": "markdown",
      "metadata": {
        "id": "view-in-github",
        "colab_type": "text"
      },
      "source": [
        "<a href=\"https://colab.research.google.com/github/Jacob130000x/Code/blob/main/Kmeans.ipynb\" target=\"_parent\"><img src=\"https://colab.research.google.com/assets/colab-badge.svg\" alt=\"Open In Colab\"/></a>"
      ]
    },
    {
      "cell_type": "code",
      "metadata": {
        "id": "GjIUtKG0VLFg"
      },
      "source": [
        "from sklearn.cluster import KMeans\n",
        "from sklearn.preprocessing import MinMaxScaler\n",
        "from matplotlib import pyplot as plt\n",
        "%matplotlib inline\n",
        "\n"
      ],
      "execution_count": null,
      "outputs": []
    },
    {
      "cell_type": "code",
      "metadata": {
        "id": "C6sxWxfYUQS5"
      },
      "source": [
        "import pandas as pd\n",
        "data = pd.read_csv(\"Average-prices-Property-Type-2019-08.csv\")"
      ],
      "execution_count": null,
      "outputs": []
    },
    {
      "cell_type": "code",
      "metadata": {
        "colab": {
          "base_uri": "https://localhost:8080/",
          "height": 1000
        },
        "id": "JIg8kZ72V7n8",
        "outputId": "4cf08b4a-c6e0-4b10-e91e-77aae853f370"
      },
      "source": [
        "data.head(20)"
      ],
      "execution_count": null,
      "outputs": [
        {
          "output_type": "execute_result",
          "data": {
            "text/html": [
              "<div>\n",
              "<style scoped>\n",
              "    .dataframe tbody tr th:only-of-type {\n",
              "        vertical-align: middle;\n",
              "    }\n",
              "\n",
              "    .dataframe tbody tr th {\n",
              "        vertical-align: top;\n",
              "    }\n",
              "\n",
              "    .dataframe thead th {\n",
              "        text-align: right;\n",
              "    }\n",
              "</style>\n",
              "<table border=\"1\" class=\"dataframe\">\n",
              "  <thead>\n",
              "    <tr style=\"text-align: right;\">\n",
              "      <th></th>\n",
              "      <th>Date</th>\n",
              "      <th>Region_Name</th>\n",
              "      <th>Area_Code</th>\n",
              "      <th>Detached_Average_Price</th>\n",
              "      <th>Semi_Detached_Average_Price</th>\n",
              "      <th>Terraced_Average_Price</th>\n",
              "      <th>Flat_Average_Price</th>\n",
              "    </tr>\n",
              "  </thead>\n",
              "  <tbody>\n",
              "    <tr>\n",
              "      <th>0</th>\n",
              "      <td>2016-09-01</td>\n",
              "      <td>England</td>\n",
              "      <td>E92000001</td>\n",
              "      <td>3.468129e+05</td>\n",
              "      <td>213476.12740</td>\n",
              "      <td>186666.65630</td>\n",
              "      <td>217712.74800</td>\n",
              "    </tr>\n",
              "    <tr>\n",
              "      <th>1</th>\n",
              "      <td>2016-09-01</td>\n",
              "      <td>Wales</td>\n",
              "      <td>W92000004</td>\n",
              "      <td>2.183390e+05</td>\n",
              "      <td>139442.31510</td>\n",
              "      <td>112455.49370</td>\n",
              "      <td>104113.97990</td>\n",
              "    </tr>\n",
              "    <tr>\n",
              "      <th>2</th>\n",
              "      <td>2016-09-01</td>\n",
              "      <td>Scotland</td>\n",
              "      <td>S92000003</td>\n",
              "      <td>2.423084e+05</td>\n",
              "      <td>146608.30480</td>\n",
              "      <td>116891.82680</td>\n",
              "      <td>101146.22410</td>\n",
              "    </tr>\n",
              "    <tr>\n",
              "      <th>3</th>\n",
              "      <td>2016-09-01</td>\n",
              "      <td>Northern Ireland</td>\n",
              "      <td>N92000001</td>\n",
              "      <td>1.877702e+05</td>\n",
              "      <td>121721.83410</td>\n",
              "      <td>86412.57986</td>\n",
              "      <td>97516.25130</td>\n",
              "    </tr>\n",
              "    <tr>\n",
              "      <th>4</th>\n",
              "      <td>2016-09-01</td>\n",
              "      <td>Outer London</td>\n",
              "      <td>E13000002</td>\n",
              "      <td>8.638264e+05</td>\n",
              "      <td>545538.67330</td>\n",
              "      <td>425596.94530</td>\n",
              "      <td>321608.08430</td>\n",
              "    </tr>\n",
              "    <tr>\n",
              "      <th>5</th>\n",
              "      <td>2016-09-01</td>\n",
              "      <td>Inner London</td>\n",
              "      <td>E13000001</td>\n",
              "      <td>1.349112e+06</td>\n",
              "      <td>913245.79950</td>\n",
              "      <td>686453.15850</td>\n",
              "      <td>530246.81060</td>\n",
              "    </tr>\n",
              "    <tr>\n",
              "      <th>6</th>\n",
              "      <td>2016-09-01</td>\n",
              "      <td>South West</td>\n",
              "      <td>E12000009</td>\n",
              "      <td>3.662269e+05</td>\n",
              "      <td>238112.50760</td>\n",
              "      <td>197260.09980</td>\n",
              "      <td>157517.68350</td>\n",
              "    </tr>\n",
              "    <tr>\n",
              "      <th>7</th>\n",
              "      <td>2016-09-01</td>\n",
              "      <td>Scottish Borders</td>\n",
              "      <td>S12000026</td>\n",
              "      <td>2.399581e+05</td>\n",
              "      <td>146153.04070</td>\n",
              "      <td>122753.27260</td>\n",
              "      <td>85548.52892</td>\n",
              "    </tr>\n",
              "    <tr>\n",
              "      <th>8</th>\n",
              "      <td>2016-09-01</td>\n",
              "      <td>Shetland Islands</td>\n",
              "      <td>S12000027</td>\n",
              "      <td>1.717416e+05</td>\n",
              "      <td>116265.87490</td>\n",
              "      <td>95438.73272</td>\n",
              "      <td>89201.91997</td>\n",
              "    </tr>\n",
              "    <tr>\n",
              "      <th>9</th>\n",
              "      <td>2016-09-01</td>\n",
              "      <td>South Ayrshire</td>\n",
              "      <td>S12000028</td>\n",
              "      <td>2.152116e+05</td>\n",
              "      <td>131437.94600</td>\n",
              "      <td>103151.58530</td>\n",
              "      <td>78569.26649</td>\n",
              "    </tr>\n",
              "    <tr>\n",
              "      <th>10</th>\n",
              "      <td>2016-09-01</td>\n",
              "      <td>East Lothian</td>\n",
              "      <td>S12000010</td>\n",
              "      <td>3.561771e+05</td>\n",
              "      <td>204603.73640</td>\n",
              "      <td>169424.35180</td>\n",
              "      <td>134375.31690</td>\n",
              "    </tr>\n",
              "    <tr>\n",
              "      <th>11</th>\n",
              "      <td>2016-09-01</td>\n",
              "      <td>Yorkshire and The Humber</td>\n",
              "      <td>E12000003</td>\n",
              "      <td>2.419760e+05</td>\n",
              "      <td>148613.31400</td>\n",
              "      <td>119687.63950</td>\n",
              "      <td>108879.02460</td>\n",
              "    </tr>\n",
              "    <tr>\n",
              "      <th>12</th>\n",
              "      <td>2016-09-01</td>\n",
              "      <td>South Lanarkshire</td>\n",
              "      <td>S12000029</td>\n",
              "      <td>2.228144e+05</td>\n",
              "      <td>131325.51030</td>\n",
              "      <td>96096.97106</td>\n",
              "      <td>73298.78311</td>\n",
              "    </tr>\n",
              "    <tr>\n",
              "      <th>13</th>\n",
              "      <td>2016-09-01</td>\n",
              "      <td>Clackmannanshire</td>\n",
              "      <td>S12000005</td>\n",
              "      <td>2.029457e+05</td>\n",
              "      <td>116284.27420</td>\n",
              "      <td>88248.11290</td>\n",
              "      <td>65927.34667</td>\n",
              "    </tr>\n",
              "    <tr>\n",
              "      <th>14</th>\n",
              "      <td>2016-09-01</td>\n",
              "      <td>East Renfrewshire</td>\n",
              "      <td>S12000011</td>\n",
              "      <td>3.746221e+05</td>\n",
              "      <td>213075.00650</td>\n",
              "      <td>165348.23740</td>\n",
              "      <td>122145.24560</td>\n",
              "    </tr>\n",
              "    <tr>\n",
              "      <th>15</th>\n",
              "      <td>2016-09-01</td>\n",
              "      <td>East of England</td>\n",
              "      <td>E12000006</td>\n",
              "      <td>4.058419e+05</td>\n",
              "      <td>275134.01900</td>\n",
              "      <td>229009.10520</td>\n",
              "      <td>186766.38690</td>\n",
              "    </tr>\n",
              "    <tr>\n",
              "      <th>16</th>\n",
              "      <td>2016-09-01</td>\n",
              "      <td>Falkirk</td>\n",
              "      <td>S12000014</td>\n",
              "      <td>2.024469e+05</td>\n",
              "      <td>119629.32620</td>\n",
              "      <td>90097.85395</td>\n",
              "      <td>67521.56526</td>\n",
              "    </tr>\n",
              "    <tr>\n",
              "      <th>17</th>\n",
              "      <td>2016-09-01</td>\n",
              "      <td>Dumfries and Galloway</td>\n",
              "      <td>S12000006</td>\n",
              "      <td>1.719923e+05</td>\n",
              "      <td>112191.92230</td>\n",
              "      <td>90298.34713</td>\n",
              "      <td>71148.87338</td>\n",
              "    </tr>\n",
              "    <tr>\n",
              "      <th>18</th>\n",
              "      <td>2016-09-01</td>\n",
              "      <td>East Ayrshire</td>\n",
              "      <td>S12000008</td>\n",
              "      <td>1.636602e+05</td>\n",
              "      <td>93936.65934</td>\n",
              "      <td>73343.18967</td>\n",
              "      <td>55544.10589</td>\n",
              "    </tr>\n",
              "    <tr>\n",
              "      <th>19</th>\n",
              "      <td>2016-09-01</td>\n",
              "      <td>East Dunbartonshire</td>\n",
              "      <td>S12000045</td>\n",
              "      <td>3.380130e+05</td>\n",
              "      <td>201291.19690</td>\n",
              "      <td>146427.39320</td>\n",
              "      <td>113536.78860</td>\n",
              "    </tr>\n",
              "  </tbody>\n",
              "</table>\n",
              "</div>"
            ],
            "text/plain": [
              "          Date  ... Flat_Average_Price\n",
              "0   2016-09-01  ...       217712.74800\n",
              "1   2016-09-01  ...       104113.97990\n",
              "2   2016-09-01  ...       101146.22410\n",
              "3   2016-09-01  ...        97516.25130\n",
              "4   2016-09-01  ...       321608.08430\n",
              "5   2016-09-01  ...       530246.81060\n",
              "6   2016-09-01  ...       157517.68350\n",
              "7   2016-09-01  ...        85548.52892\n",
              "8   2016-09-01  ...        89201.91997\n",
              "9   2016-09-01  ...        78569.26649\n",
              "10  2016-09-01  ...       134375.31690\n",
              "11  2016-09-01  ...       108879.02460\n",
              "12  2016-09-01  ...        73298.78311\n",
              "13  2016-09-01  ...        65927.34667\n",
              "14  2016-09-01  ...       122145.24560\n",
              "15  2016-09-01  ...       186766.38690\n",
              "16  2016-09-01  ...        67521.56526\n",
              "17  2016-09-01  ...        71148.87338\n",
              "18  2016-09-01  ...        55544.10589\n",
              "19  2016-09-01  ...       113536.78860\n",
              "\n",
              "[20 rows x 7 columns]"
            ]
          },
          "metadata": {
            "tags": []
          },
          "execution_count": 21
        }
      ]
    },
    {
      "cell_type": "code",
      "metadata": {
        "colab": {
          "base_uri": "https://localhost:8080/",
          "height": 419
        },
        "id": "3MiZL9RCWA50",
        "outputId": "66d98bc1-7f15-47b0-b325-5fdfe50aed57"
      },
      "source": [
        "dataH = data.filter(['Flat_Average_Price', 'Detached_Average_Price'])\n",
        "\n",
        "dataH.dropna()\n",
        "              \n",
        "            #  new = old.filter(['A','B','D'], axis=1)"
      ],
      "execution_count": null,
      "outputs": [
        {
          "output_type": "execute_result",
          "data": {
            "text/html": [
              "<div>\n",
              "<style scoped>\n",
              "    .dataframe tbody tr th:only-of-type {\n",
              "        vertical-align: middle;\n",
              "    }\n",
              "\n",
              "    .dataframe tbody tr th {\n",
              "        vertical-align: top;\n",
              "    }\n",
              "\n",
              "    .dataframe thead th {\n",
              "        text-align: right;\n",
              "    }\n",
              "</style>\n",
              "<table border=\"1\" class=\"dataframe\">\n",
              "  <thead>\n",
              "    <tr style=\"text-align: right;\">\n",
              "      <th></th>\n",
              "      <th>Flat_Average_Price</th>\n",
              "      <th>Detached_Average_Price</th>\n",
              "    </tr>\n",
              "  </thead>\n",
              "  <tbody>\n",
              "    <tr>\n",
              "      <th>0</th>\n",
              "      <td>217712.748000</td>\n",
              "      <td>346812.85520</td>\n",
              "    </tr>\n",
              "    <tr>\n",
              "      <th>1</th>\n",
              "      <td>104113.979900</td>\n",
              "      <td>218339.03990</td>\n",
              "    </tr>\n",
              "    <tr>\n",
              "      <th>2</th>\n",
              "      <td>101146.224100</td>\n",
              "      <td>242308.42640</td>\n",
              "    </tr>\n",
              "    <tr>\n",
              "      <th>3</th>\n",
              "      <td>97516.251300</td>\n",
              "      <td>187770.17240</td>\n",
              "    </tr>\n",
              "    <tr>\n",
              "      <th>4</th>\n",
              "      <td>321608.084300</td>\n",
              "      <td>863826.43410</td>\n",
              "    </tr>\n",
              "    <tr>\n",
              "      <th>...</th>\n",
              "      <td>...</td>\n",
              "      <td>...</td>\n",
              "    </tr>\n",
              "    <tr>\n",
              "      <th>15475</th>\n",
              "      <td>80302.176226</td>\n",
              "      <td>214481.01961</td>\n",
              "    </tr>\n",
              "    <tr>\n",
              "      <th>15476</th>\n",
              "      <td>80983.619458</td>\n",
              "      <td>224646.23211</td>\n",
              "    </tr>\n",
              "    <tr>\n",
              "      <th>15477</th>\n",
              "      <td>220403.358650</td>\n",
              "      <td>377160.03097</td>\n",
              "    </tr>\n",
              "    <tr>\n",
              "      <th>15478</th>\n",
              "      <td>203452.279450</td>\n",
              "      <td>366642.69524</td>\n",
              "    </tr>\n",
              "    <tr>\n",
              "      <th>15479</th>\n",
              "      <td>203452.279450</td>\n",
              "      <td>360661.16693</td>\n",
              "    </tr>\n",
              "  </tbody>\n",
              "</table>\n",
              "<p>15444 rows × 2 columns</p>\n",
              "</div>"
            ],
            "text/plain": [
              "       Flat_Average_Price  Detached_Average_Price\n",
              "0           217712.748000            346812.85520\n",
              "1           104113.979900            218339.03990\n",
              "2           101146.224100            242308.42640\n",
              "3            97516.251300            187770.17240\n",
              "4           321608.084300            863826.43410\n",
              "...                   ...                     ...\n",
              "15475        80302.176226            214481.01961\n",
              "15476        80983.619458            224646.23211\n",
              "15477       220403.358650            377160.03097\n",
              "15478       203452.279450            366642.69524\n",
              "15479       203452.279450            360661.16693\n",
              "\n",
              "[15444 rows x 2 columns]"
            ]
          },
          "metadata": {
            "tags": []
          },
          "execution_count": 33
        }
      ]
    },
    {
      "cell_type": "code",
      "metadata": {
        "colab": {
          "base_uri": "https://localhost:8080/",
          "height": 669
        },
        "id": "JxxS0x_9YtJc",
        "outputId": "bd90804a-36c5-4da1-939b-ddfc7f473d09"
      },
      "source": [
        "dataH.head(20)\n"
      ],
      "execution_count": null,
      "outputs": [
        {
          "output_type": "execute_result",
          "data": {
            "text/html": [
              "<div>\n",
              "<style scoped>\n",
              "    .dataframe tbody tr th:only-of-type {\n",
              "        vertical-align: middle;\n",
              "    }\n",
              "\n",
              "    .dataframe tbody tr th {\n",
              "        vertical-align: top;\n",
              "    }\n",
              "\n",
              "    .dataframe thead th {\n",
              "        text-align: right;\n",
              "    }\n",
              "</style>\n",
              "<table border=\"1\" class=\"dataframe\">\n",
              "  <thead>\n",
              "    <tr style=\"text-align: right;\">\n",
              "      <th></th>\n",
              "      <th>Flat_Average_Price</th>\n",
              "      <th>Detached_Average_Price</th>\n",
              "    </tr>\n",
              "  </thead>\n",
              "  <tbody>\n",
              "    <tr>\n",
              "      <th>0</th>\n",
              "      <td>217712.74800</td>\n",
              "      <td>3.468129e+05</td>\n",
              "    </tr>\n",
              "    <tr>\n",
              "      <th>1</th>\n",
              "      <td>104113.97990</td>\n",
              "      <td>2.183390e+05</td>\n",
              "    </tr>\n",
              "    <tr>\n",
              "      <th>2</th>\n",
              "      <td>101146.22410</td>\n",
              "      <td>2.423084e+05</td>\n",
              "    </tr>\n",
              "    <tr>\n",
              "      <th>3</th>\n",
              "      <td>97516.25130</td>\n",
              "      <td>1.877702e+05</td>\n",
              "    </tr>\n",
              "    <tr>\n",
              "      <th>4</th>\n",
              "      <td>321608.08430</td>\n",
              "      <td>8.638264e+05</td>\n",
              "    </tr>\n",
              "    <tr>\n",
              "      <th>5</th>\n",
              "      <td>530246.81060</td>\n",
              "      <td>1.349112e+06</td>\n",
              "    </tr>\n",
              "    <tr>\n",
              "      <th>6</th>\n",
              "      <td>157517.68350</td>\n",
              "      <td>3.662269e+05</td>\n",
              "    </tr>\n",
              "    <tr>\n",
              "      <th>7</th>\n",
              "      <td>85548.52892</td>\n",
              "      <td>2.399581e+05</td>\n",
              "    </tr>\n",
              "    <tr>\n",
              "      <th>8</th>\n",
              "      <td>89201.91997</td>\n",
              "      <td>1.717416e+05</td>\n",
              "    </tr>\n",
              "    <tr>\n",
              "      <th>9</th>\n",
              "      <td>78569.26649</td>\n",
              "      <td>2.152116e+05</td>\n",
              "    </tr>\n",
              "    <tr>\n",
              "      <th>10</th>\n",
              "      <td>134375.31690</td>\n",
              "      <td>3.561771e+05</td>\n",
              "    </tr>\n",
              "    <tr>\n",
              "      <th>11</th>\n",
              "      <td>108879.02460</td>\n",
              "      <td>2.419760e+05</td>\n",
              "    </tr>\n",
              "    <tr>\n",
              "      <th>12</th>\n",
              "      <td>73298.78311</td>\n",
              "      <td>2.228144e+05</td>\n",
              "    </tr>\n",
              "    <tr>\n",
              "      <th>13</th>\n",
              "      <td>65927.34667</td>\n",
              "      <td>2.029457e+05</td>\n",
              "    </tr>\n",
              "    <tr>\n",
              "      <th>14</th>\n",
              "      <td>122145.24560</td>\n",
              "      <td>3.746221e+05</td>\n",
              "    </tr>\n",
              "    <tr>\n",
              "      <th>15</th>\n",
              "      <td>186766.38690</td>\n",
              "      <td>4.058419e+05</td>\n",
              "    </tr>\n",
              "    <tr>\n",
              "      <th>16</th>\n",
              "      <td>67521.56526</td>\n",
              "      <td>2.024469e+05</td>\n",
              "    </tr>\n",
              "    <tr>\n",
              "      <th>17</th>\n",
              "      <td>71148.87338</td>\n",
              "      <td>1.719923e+05</td>\n",
              "    </tr>\n",
              "    <tr>\n",
              "      <th>18</th>\n",
              "      <td>55544.10589</td>\n",
              "      <td>1.636602e+05</td>\n",
              "    </tr>\n",
              "    <tr>\n",
              "      <th>19</th>\n",
              "      <td>113536.78860</td>\n",
              "      <td>3.380130e+05</td>\n",
              "    </tr>\n",
              "  </tbody>\n",
              "</table>\n",
              "</div>"
            ],
            "text/plain": [
              "    Flat_Average_Price  Detached_Average_Price\n",
              "0         217712.74800            3.468129e+05\n",
              "1         104113.97990            2.183390e+05\n",
              "2         101146.22410            2.423084e+05\n",
              "3          97516.25130            1.877702e+05\n",
              "4         321608.08430            8.638264e+05\n",
              "5         530246.81060            1.349112e+06\n",
              "6         157517.68350            3.662269e+05\n",
              "7          85548.52892            2.399581e+05\n",
              "8          89201.91997            1.717416e+05\n",
              "9          78569.26649            2.152116e+05\n",
              "10        134375.31690            3.561771e+05\n",
              "11        108879.02460            2.419760e+05\n",
              "12         73298.78311            2.228144e+05\n",
              "13         65927.34667            2.029457e+05\n",
              "14        122145.24560            3.746221e+05\n",
              "15        186766.38690            4.058419e+05\n",
              "16         67521.56526            2.024469e+05\n",
              "17         71148.87338            1.719923e+05\n",
              "18         55544.10589            1.636602e+05\n",
              "19        113536.78860            3.380130e+05"
            ]
          },
          "metadata": {
            "tags": []
          },
          "execution_count": 46
        }
      ]
    },
    {
      "cell_type": "code",
      "metadata": {
        "colab": {
          "base_uri": "https://localhost:8080/",
          "height": 306
        },
        "id": "Lfw6Nqi0W59y",
        "outputId": "226664e8-aa93-4ecb-d483-6a393d1938ce"
      },
      "source": [
        "plt.scatter(dataH['Flat_Average_Price'], dataH['Detached_Average_Price'])"
      ],
      "execution_count": null,
      "outputs": [
        {
          "output_type": "execute_result",
          "data": {
            "text/plain": [
              "<matplotlib.collections.PathCollection at 0x7f5a2341a950>"
            ]
          },
          "metadata": {
            "tags": []
          },
          "execution_count": 34
        },
        {
          "output_type": "display_data",
          "data": {
            "image/png": "[encoded data removed]",
            "text/plain": [
              "<Figure size 432x288 with 1 Axes>"
            ]
          },
          "metadata": {
            "tags": [],
            "needs_background": "light"
          }
        }
      ]
    },
    {
      "cell_type": "code",
      "metadata": {
        "id": "rzrqgDyUcWkg"
      },
      "source": [
        "dataNew = dataH.round(2)\n",
        "dataNew = dataNew.fillna(0)"
      ],
      "execution_count": null,
      "outputs": []
    },
    {
      "cell_type": "code",
      "metadata": {
        "colab": {
          "base_uri": "https://localhost:8080/",
          "height": 204
        },
        "id": "RC4mlN7QcicC",
        "outputId": "3731dd0e-d9cf-419a-9183-4739f7c25338"
      },
      "source": [
        "dataNew.head()"
      ],
      "execution_count": null,
      "outputs": [
        {
          "output_type": "execute_result",
          "data": {
            "text/html": [
              "<div>\n",
              "<style scoped>\n",
              "    .dataframe tbody tr th:only-of-type {\n",
              "        vertical-align: middle;\n",
              "    }\n",
              "\n",
              "    .dataframe tbody tr th {\n",
              "        vertical-align: top;\n",
              "    }\n",
              "\n",
              "    .dataframe thead th {\n",
              "        text-align: right;\n",
              "    }\n",
              "</style>\n",
              "<table border=\"1\" class=\"dataframe\">\n",
              "  <thead>\n",
              "    <tr style=\"text-align: right;\">\n",
              "      <th></th>\n",
              "      <th>Flat_Average_Price</th>\n",
              "      <th>Detached_Average_Price</th>\n",
              "    </tr>\n",
              "  </thead>\n",
              "  <tbody>\n",
              "    <tr>\n",
              "      <th>0</th>\n",
              "      <td>217712.75</td>\n",
              "      <td>346812.86</td>\n",
              "    </tr>\n",
              "    <tr>\n",
              "      <th>1</th>\n",
              "      <td>104113.98</td>\n",
              "      <td>218339.04</td>\n",
              "    </tr>\n",
              "    <tr>\n",
              "      <th>2</th>\n",
              "      <td>101146.22</td>\n",
              "      <td>242308.43</td>\n",
              "    </tr>\n",
              "    <tr>\n",
              "      <th>3</th>\n",
              "      <td>97516.25</td>\n",
              "      <td>187770.17</td>\n",
              "    </tr>\n",
              "    <tr>\n",
              "      <th>4</th>\n",
              "      <td>321608.08</td>\n",
              "      <td>863826.43</td>\n",
              "    </tr>\n",
              "  </tbody>\n",
              "</table>\n",
              "</div>"
            ],
            "text/plain": [
              "   Flat_Average_Price  Detached_Average_Price\n",
              "0           217712.75               346812.86\n",
              "1           104113.98               218339.04\n",
              "2           101146.22               242308.43\n",
              "3            97516.25               187770.17\n",
              "4           321608.08               863826.43"
            ]
          },
          "metadata": {
            "tags": []
          },
          "execution_count": 70
        }
      ]
    },
    {
      "cell_type": "code",
      "metadata": {
        "colab": {
          "base_uri": "https://localhost:8080/"
        },
        "id": "gukqEOG6dWbz",
        "outputId": "0ea68cba-d52e-4d8d-ddf9-9f7374ad0ee2"
      },
      "source": [
        "dataNew.info()"
      ],
      "execution_count": null,
      "outputs": [
        {
          "output_type": "stream",
          "text": [
            "<class 'pandas.core.frame.DataFrame'>\n",
            "RangeIndex: 15480 entries, 0 to 15479\n",
            "Data columns (total 2 columns):\n",
            " #   Column                  Non-Null Count  Dtype  \n",
            "---  ------                  --------------  -----  \n",
            " 0   Flat_Average_Price      15480 non-null  float64\n",
            " 1   Detached_Average_Price  15444 non-null  float64\n",
            "dtypes: float64(2)\n",
            "memory usage: 242.0 KB\n"
          ],
          "name": "stdout"
        }
      ]
    },
    {
      "cell_type": "code",
      "metadata": {
        "colab": {
          "base_uri": "https://localhost:8080/"
        },
        "id": "zCzuWBZRZyK7",
        "outputId": "a71fbcc4-cc4e-45a9-ac30-8deab4d448bf"
      },
      "source": [
        "km = KMeans(n_clusters = 2 )\n",
        "km"
      ],
      "execution_count": null,
      "outputs": [
        {
          "output_type": "execute_result",
          "data": {
            "text/plain": [
              "KMeans(algorithm='auto', copy_x=True, init='k-means++', max_iter=300,\n",
              "       n_clusters=2, n_init=10, n_jobs=None, precompute_distances='auto',\n",
              "       random_state=None, tol=0.0001, verbose=0)"
            ]
          },
          "metadata": {
            "tags": []
          },
          "execution_count": 74
        }
      ]
    },
    {
      "cell_type": "code",
      "metadata": {
        "colab": {
          "base_uri": "https://localhost:8080/"
        },
        "id": "tjLqryOtbX7T",
        "outputId": "6baf1eb7-06d4-45c1-ac54-25526b13357c"
      },
      "source": [
        "dataNew.dtypes"
      ],
      "execution_count": null,
      "outputs": [
        {
          "output_type": "execute_result",
          "data": {
            "text/plain": [
              "Flat_Average_Price        float64\n",
              "Detached_Average_Price    float64\n",
              "dtype: object"
            ]
          },
          "metadata": {
            "tags": []
          },
          "execution_count": 76
        }
      ]
    },
    {
      "cell_type": "code",
      "metadata": {
        "colab": {
          "base_uri": "https://localhost:8080/"
        },
        "id": "tjxPwFpUaBQL",
        "outputId": "e7417b66-f7c0-4867-ca26-40af7d8820f9"
      },
      "source": [
        "y_predict  = km.fit_predict(dataNew[['Flat_Average_Price', 'Detached_Average_Price']])\n",
        "y_predict"
      ],
      "execution_count": null,
      "outputs": [
        {
          "output_type": "execute_result",
          "data": {
            "text/plain": [
              "array([0, 0, 0, ..., 0, 0, 0], dtype=int32)"
            ]
          },
          "metadata": {
            "tags": []
          },
          "execution_count": 75
        }
      ]
    },
    {
      "cell_type": "code",
      "metadata": {
        "colab": {
          "base_uri": "https://localhost:8080/",
          "height": 204
        },
        "id": "SVJW6OrJf-0e",
        "outputId": "35858854-65cf-4271-c5d7-1bcc80ba260e"
      },
      "source": [
        "dataNew['Label'] = y_predict\n",
        "dataNew.head()"
      ],
      "execution_count": null,
      "outputs": [
        {
          "output_type": "execute_result",
          "data": {
            "text/html": [
              "<div>\n",
              "<style scoped>\n",
              "    .dataframe tbody tr th:only-of-type {\n",
              "        vertical-align: middle;\n",
              "    }\n",
              "\n",
              "    .dataframe tbody tr th {\n",
              "        vertical-align: top;\n",
              "    }\n",
              "\n",
              "    .dataframe thead th {\n",
              "        text-align: right;\n",
              "    }\n",
              "</style>\n",
              "<table border=\"1\" class=\"dataframe\">\n",
              "  <thead>\n",
              "    <tr style=\"text-align: right;\">\n",
              "      <th></th>\n",
              "      <th>Flat_Average_Price</th>\n",
              "      <th>Detached_Average_Price</th>\n",
              "      <th>Label</th>\n",
              "    </tr>\n",
              "  </thead>\n",
              "  <tbody>\n",
              "    <tr>\n",
              "      <th>0</th>\n",
              "      <td>217712.75</td>\n",
              "      <td>346812.86</td>\n",
              "      <td>0</td>\n",
              "    </tr>\n",
              "    <tr>\n",
              "      <th>1</th>\n",
              "      <td>104113.98</td>\n",
              "      <td>218339.04</td>\n",
              "      <td>0</td>\n",
              "    </tr>\n",
              "    <tr>\n",
              "      <th>2</th>\n",
              "      <td>101146.22</td>\n",
              "      <td>242308.43</td>\n",
              "      <td>0</td>\n",
              "    </tr>\n",
              "    <tr>\n",
              "      <th>3</th>\n",
              "      <td>97516.25</td>\n",
              "      <td>187770.17</td>\n",
              "      <td>0</td>\n",
              "    </tr>\n",
              "    <tr>\n",
              "      <th>4</th>\n",
              "      <td>321608.08</td>\n",
              "      <td>863826.43</td>\n",
              "      <td>1</td>\n",
              "    </tr>\n",
              "  </tbody>\n",
              "</table>\n",
              "</div>"
            ],
            "text/plain": [
              "   Flat_Average_Price  Detached_Average_Price  Label\n",
              "0           217712.75               346812.86      0\n",
              "1           104113.98               218339.04      0\n",
              "2           101146.22               242308.43      0\n",
              "3            97516.25               187770.17      0\n",
              "4           321608.08               863826.43      1"
            ]
          },
          "metadata": {
            "tags": []
          },
          "execution_count": 78
        }
      ]
    },
    {
      "cell_type": "code",
      "metadata": {
        "colab": {
          "base_uri": "https://localhost:8080/",
          "height": 306
        },
        "id": "CSdQv-nPgZp7",
        "outputId": "93201799-f4e3-4404-bb54-749fca81fd7e"
      },
      "source": [
        "data0 = dataNew[dataNew.Label == 0]\n",
        "data1 = dataNew[dataNew.Label == 1]\n",
        "plt.scatter(data0['Flat_Average_Price'], data0['Detached_Average_Price'], color='red')\n",
        "plt.scatter(data1['Flat_Average_Price'], data1['Detached_Average_Price'], color= 'blue')"
      ],
      "execution_count": null,
      "outputs": [
        {
          "output_type": "execute_result",
          "data": {
            "text/plain": [
              "<matplotlib.collections.PathCollection at 0x7f5a19e4f6d0>"
            ]
          },
          "metadata": {
            "tags": []
          },
          "execution_count": 84
        },
        {
          "output_type": "display_data",
          "data": {
            "image/png": "[encoded data removed]",
            "text/plain": [
              "<Figure size 432x288 with 1 Axes>"
            ]
          },
          "metadata": {
            "tags": [],
            "needs_background": "light"
          }
        }
      ]
    },
    {
      "cell_type": "code",
      "metadata": {
        "id": "17R4T_yRhtJ3"
      },
      "source": [
        "scaler = MinMaxScaler()\n",
        "scaled = scaler.fit_transform(dataNew)\n",
        "#scaler.fit(dataNew[['Flat_Average_Price']])\n",
        "#dataNew.reshape(-1,1)\n",
        "#dataNew['Flat_Average_Price'] = scaler.transform(dataNew['Flat_Average_Price'])\n"
      ],
      "execution_count": null,
      "outputs": []
    },
    {
      "cell_type": "code",
      "metadata": {
        "colab": {
          "base_uri": "https://localhost:8080/"
        },
        "id": "tzglUHYgjH1a",
        "outputId": "5e5cd807-0726-44b7-b253-48de536e08c3"
      },
      "source": [
        "scaled"
      ],
      "execution_count": null,
      "outputs": [
        {
          "output_type": "execute_result",
          "data": {
            "text/plain": [
              "array([[0.13813362, 0.09234001, 0.        ],\n",
              "       [0.04658423, 0.05813345, 0.        ],\n",
              "       [0.04419251, 0.06451538, 0.        ],\n",
              "       ...,\n",
              "       [0.14030199, 0.10042004, 0.        ],\n",
              "       [0.12664109, 0.09761976, 0.        ],\n",
              "       [0.12664109, 0.09602716, 0.        ]])"
            ]
          },
          "metadata": {
            "tags": []
          },
          "execution_count": 98
        }
      ]
    },
    {
      "cell_type": "code",
      "metadata": {
        "colab": {
          "base_uri": "https://localhost:8080/",
          "height": 164
        },
        "id": "NQABqp4Jjn1B",
        "outputId": "a3aa1ae8-3a9b-4d3b-ef22-e03251d4a839"
      },
      "source": [
        ""
      ],
      "execution_count": null,
      "outputs": [
        {
          "output_type": "error",
          "ename": "AttributeError",
          "evalue": "ignored",
          "traceback": [
            "\u001b[0;31m---------------------------------------------------------------------------\u001b[0m",
            "\u001b[0;31mAttributeError\u001b[0m                            Traceback (most recent call last)",
            "\u001b[0;32m<ipython-input-96-4408107520b5>\u001b[0m in \u001b[0;36m<module>\u001b[0;34m()\u001b[0m\n\u001b[0;32m----> 1\u001b[0;31m \u001b[0mscaled\u001b[0m\u001b[0;34m.\u001b[0m\u001b[0mhead\u001b[0m\u001b[0;34m(\u001b[0m\u001b[0;34m)\u001b[0m\u001b[0;34m\u001b[0m\u001b[0;34m\u001b[0m\u001b[0m\n\u001b[0m",
            "\u001b[0;31mAttributeError\u001b[0m: 'numpy.ndarray' object has no attribute 'head'"
          ]
        }
      ]
    },
    {
      "cell_type": "code",
      "metadata": {
        "id": "gJd2sbVxkPit"
      },
      "source": [
        "df = pd.DataFrame(scaled, columns = ['Flat_Average_Price','Detached_Average_Price', 'Cluster'])\n"
      ],
      "execution_count": null,
      "outputs": []
    },
    {
      "cell_type": "code",
      "metadata": {
        "colab": {
          "base_uri": "https://localhost:8080/"
        },
        "id": "4v0y45cJkb43",
        "outputId": "476ab4f2-c510-4d4c-bc7f-a548956e42de"
      },
      "source": [
        "df.head"
      ],
      "execution_count": null,
      "outputs": [
        {
          "output_type": "execute_result",
          "data": {
            "text/plain": [
              "<bound method NDFrame.head of        Flat_Average_Price  Detached_Average_Price  Cluster\n",
              "0                0.138134                0.092340      0.0\n",
              "1                0.046584                0.058133      0.0\n",
              "2                0.044193                0.064515      0.0\n",
              "3                0.041267                0.049994      0.0\n",
              "4                0.221863                0.229996      1.0\n",
              "...                   ...                     ...      ...\n",
              "15475            0.027394                0.057106      0.0\n",
              "15476            0.027943                0.059813      0.0\n",
              "15477            0.140302                0.100420      0.0\n",
              "15478            0.126641                0.097620      0.0\n",
              "15479            0.126641                0.096027      0.0\n",
              "\n",
              "[15480 rows x 3 columns]>"
            ]
          },
          "metadata": {
            "tags": []
          },
          "execution_count": 103
        }
      ]
    },
    {
      "cell_type": "code",
      "metadata": {
        "colab": {
          "base_uri": "https://localhost:8080/"
        },
        "id": "4QVmldTSkg1I",
        "outputId": "a2b21b8f-247d-4d79-9a92-5af8c9e468a8"
      },
      "source": [
        "y_predict = km.fit_predict(df[['Flat_Average_Price', 'Detached_Average_Price']])\n",
        "y_predict"
      ],
      "execution_count": null,
      "outputs": [
        {
          "output_type": "execute_result",
          "data": {
            "text/plain": [
              "array([0, 0, 0, ..., 0, 0, 0], dtype=int32)"
            ]
          },
          "metadata": {
            "tags": []
          },
          "execution_count": 105
        }
      ]
    },
    {
      "cell_type": "code",
      "metadata": {
        "colab": {
          "base_uri": "https://localhost:8080/",
          "height": 419
        },
        "id": "ZRmCHoqdk5Ue",
        "outputId": "a1d28430-1341-4132-e0ff-6c0541a1b09f"
      },
      "source": [
        "df['Cluster'] = y_predict\n",
        "df "
      ],
      "execution_count": null,
      "outputs": [
        {
          "output_type": "execute_result",
          "data": {
            "text/html": [
              "<div>\n",
              "<style scoped>\n",
              "    .dataframe tbody tr th:only-of-type {\n",
              "        vertical-align: middle;\n",
              "    }\n",
              "\n",
              "    .dataframe tbody tr th {\n",
              "        vertical-align: top;\n",
              "    }\n",
              "\n",
              "    .dataframe thead th {\n",
              "        text-align: right;\n",
              "    }\n",
              "</style>\n",
              "<table border=\"1\" class=\"dataframe\">\n",
              "  <thead>\n",
              "    <tr style=\"text-align: right;\">\n",
              "      <th></th>\n",
              "      <th>Flat_Average_Price</th>\n",
              "      <th>Detached_Average_Price</th>\n",
              "      <th>Cluster</th>\n",
              "    </tr>\n",
              "  </thead>\n",
              "  <tbody>\n",
              "    <tr>\n",
              "      <th>0</th>\n",
              "      <td>0.138134</td>\n",
              "      <td>0.092340</td>\n",
              "      <td>0</td>\n",
              "    </tr>\n",
              "    <tr>\n",
              "      <th>1</th>\n",
              "      <td>0.046584</td>\n",
              "      <td>0.058133</td>\n",
              "      <td>0</td>\n",
              "    </tr>\n",
              "    <tr>\n",
              "      <th>2</th>\n",
              "      <td>0.044193</td>\n",
              "      <td>0.064515</td>\n",
              "      <td>0</td>\n",
              "    </tr>\n",
              "    <tr>\n",
              "      <th>3</th>\n",
              "      <td>0.041267</td>\n",
              "      <td>0.049994</td>\n",
              "      <td>0</td>\n",
              "    </tr>\n",
              "    <tr>\n",
              "      <th>4</th>\n",
              "      <td>0.221863</td>\n",
              "      <td>0.229996</td>\n",
              "      <td>1</td>\n",
              "    </tr>\n",
              "    <tr>\n",
              "      <th>...</th>\n",
              "      <td>...</td>\n",
              "      <td>...</td>\n",
              "      <td>...</td>\n",
              "    </tr>\n",
              "    <tr>\n",
              "      <th>15475</th>\n",
              "      <td>0.027394</td>\n",
              "      <td>0.057106</td>\n",
              "      <td>0</td>\n",
              "    </tr>\n",
              "    <tr>\n",
              "      <th>15476</th>\n",
              "      <td>0.027943</td>\n",
              "      <td>0.059813</td>\n",
              "      <td>0</td>\n",
              "    </tr>\n",
              "    <tr>\n",
              "      <th>15477</th>\n",
              "      <td>0.140302</td>\n",
              "      <td>0.100420</td>\n",
              "      <td>0</td>\n",
              "    </tr>\n",
              "    <tr>\n",
              "      <th>15478</th>\n",
              "      <td>0.126641</td>\n",
              "      <td>0.097620</td>\n",
              "      <td>0</td>\n",
              "    </tr>\n",
              "    <tr>\n",
              "      <th>15479</th>\n",
              "      <td>0.126641</td>\n",
              "      <td>0.096027</td>\n",
              "      <td>0</td>\n",
              "    </tr>\n",
              "  </tbody>\n",
              "</table>\n",
              "<p>15480 rows × 3 columns</p>\n",
              "</div>"
            ],
            "text/plain": [
              "       Flat_Average_Price  Detached_Average_Price  Cluster\n",
              "0                0.138134                0.092340        0\n",
              "1                0.046584                0.058133        0\n",
              "2                0.044193                0.064515        0\n",
              "3                0.041267                0.049994        0\n",
              "4                0.221863                0.229996        1\n",
              "...                   ...                     ...      ...\n",
              "15475            0.027394                0.057106        0\n",
              "15476            0.027943                0.059813        0\n",
              "15477            0.140302                0.100420        0\n",
              "15478            0.126641                0.097620        0\n",
              "15479            0.126641                0.096027        0\n",
              "\n",
              "[15480 rows x 3 columns]"
            ]
          },
          "metadata": {
            "tags": []
          },
          "execution_count": 110
        }
      ]
    },
    {
      "cell_type": "code",
      "metadata": {
        "id": "maRpQ9-dlsdi"
      },
      "source": [
        ""
      ],
      "execution_count": null,
      "outputs": []
    },
    {
      "cell_type": "code",
      "metadata": {
        "id": "Sgwph9TglpM5"
      },
      "source": [
        "km = KMeans(n_clusters = 4, n_init=20 )"
      ],
      "execution_count": null,
      "outputs": []
    },
    {
      "cell_type": "code",
      "metadata": {
        "colab": {
          "base_uri": "https://localhost:8080/"
        },
        "id": "_cHA7WBjl56y",
        "outputId": "5e5884a8-9558-4d36-bcde-fd3bd6109838"
      },
      "source": [
        "y_predict = km.fit_predict(df[['Flat_Average_Price', 'Detached_Average_Price']])\n",
        "y_predict"
      ],
      "execution_count": null,
      "outputs": [
        {
          "output_type": "execute_result",
          "data": {
            "text/plain": [
              "array([0, 0, 0, ..., 0, 0, 0], dtype=int32)"
            ]
          },
          "metadata": {
            "tags": []
          },
          "execution_count": 112
        }
      ]
    },
    {
      "cell_type": "markdown",
      "metadata": {
        "id": "OaTvFaqJlsB1"
      },
      "source": [
        "KMeans(algorithm='auto', copy_x=True, init='k-means++', max_iter=300,\n",
        "       n_clusters=2, n_init=10, n_jobs=None, precompute_distances='auto',\n",
        "       random_state=None, tol=0.0001, verbose=0)"
      ]
    },
    {
      "cell_type": "code",
      "metadata": {
        "colab": {
          "base_uri": "https://localhost:8080/",
          "height": 282
        },
        "id": "pYRzMS9ElCFS",
        "outputId": "3bf6259e-53e7-4888-8eb1-03f2f5dbe53f"
      },
      "source": [
        "data0 = df[dataNew.Label == 0]\n",
        "data1 = df[dataNew.Label == 1]\n",
        "\n",
        "plt.scatter(data0['Flat_Average_Price'], data0['Detached_Average_Price'], color='red')\n",
        "plt.scatter(data1['Flat_Average_Price'], data1['Detached_Average_Price'], color= 'blue')"
      ],
      "execution_count": null,
      "outputs": [
        {
          "output_type": "execute_result",
          "data": {
            "text/plain": [
              "<matplotlib.collections.PathCollection at 0x7f5a23a8f2d0>"
            ]
          },
          "metadata": {
            "tags": []
          },
          "execution_count": 118
        },
        {
          "output_type": "display_data",
          "data": {
            "image/png": "[encoded data removed]",
            "text/plain": [
              "<Figure size 432x288 with 1 Axes>"
            ]
          },
          "metadata": {
            "tags": [],
            "needs_background": "light"
          }
        }
      ]
    },
    {
      "cell_type": "code",
      "metadata": {
        "id": "bbKWikamloQ5"
      },
      "source": [
        ""
      ],
      "execution_count": null,
      "outputs": []
    }
  ]
}