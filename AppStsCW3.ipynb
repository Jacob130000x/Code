{
  "nbformat": 4,
  "nbformat_minor": 0,
  "metadata": {
    "colab": {
      "name": "AppStsCW3.ipynb",
      "provenance": [],
      "collapsed_sections": [],
      "toc_visible": true,
      "authorship_tag": "ABX9TyNPURg7xo2yPD2raZJu8pTf",
      "include_colab_link": true
    },
    "kernelspec": {
      "name": "python3",
      "display_name": "Python 3"
    }
  },
  "cells": [
    {
      "cell_type": "markdown",
      "metadata": {
        "id": "view-in-github",
        "colab_type": "text"
      },
      "source": [
        "<a href=\"https://colab.research.google.com/github/Jacob130000x/Code/blob/main/AppStsCW3.ipynb\" target=\"_parent\"><img src=\"https://colab.research.google.com/assets/colab-badge.svg\" alt=\"Open In Colab\"/></a>"
      ]
    },
    {
      "cell_type": "code",
      "metadata": {
        "id": "zWzr0RLVYQY8"
      },
      "source": [
        "import numpy as np\n",
        "import matplotlib.pyplot as plt\n",
        "import pandas as pd\n",
        "\n",
        "\n",
        "def CCDF(data):\n",
        "    '''\n",
        "    Computes CCDF given data\n",
        "    '''\n",
        "    n = len(data)\n",
        "    x = np.sort(data) # sort data\\\n",
        "    y = np.arange(1, n + 1) / n # compute cdf\n",
        "    y = 1-y\n",
        "    plt.plot(x, y)\n",
        "    plt.grid(True)\n",
        "    plt.xlabel('number of tweets')\n",
        "    plt.ylabel('probability')\n",
        "    plt.show()\n"
      ],
      "execution_count": null,
      "outputs": []
    },
    {
      "cell_type": "markdown",
      "metadata": {
        "id": "LWJm-J_af1KP"
      },
      "source": [
        "a) Preliminaries"
      ]
    },
    {
      "cell_type": "code",
      "metadata": {
        "id": "xODRSRnAfOFx"
      },
      "source": [
        "data2 = pd.read_csv(\"tweet-time-series2.csv\", header=None, sep=\" \")\n"
      ],
      "execution_count": null,
      "outputs": []
    },
    {
      "cell_type": "code",
      "metadata": {
        "id": "-kCJxIBefU8m"
      },
      "source": [
        "data2 = data2.iloc[60000:70000, 1]"
      ],
      "execution_count": null,
      "outputs": []
    },
    {
      "cell_type": "code",
      "metadata": {
        "colab": {
          "base_uri": "https://localhost:8080/"
        },
        "id": "mVDeMGMPdXdE",
        "outputId": "07bbeca4-e59c-4dd8-f08f-2b36efa315c3"
      },
      "source": [
        "data2"
      ],
      "execution_count": null,
      "outputs": [
        {
          "output_type": "execute_result",
          "data": {
            "text/plain": [
              "60000    33\n",
              "60001    37\n",
              "60002    27\n",
              "60003    37\n",
              "60004    28\n",
              "         ..\n",
              "69995     2\n",
              "69996     1\n",
              "69997     2\n",
              "69998     1\n",
              "69999     2\n",
              "Name: 1, Length: 10000, dtype: int64"
            ]
          },
          "metadata": {
            "tags": []
          },
          "execution_count": 5
        }
      ]
    },
    {
      "cell_type": "markdown",
      "metadata": {
        "id": "PFEXmWxbfxuT"
      },
      "source": [
        "b) Selecting a model"
      ]
    },
    {
      "cell_type": "markdown",
      "metadata": {
        "id": "JQntexgEgMxm"
      },
      "source": [
        "Normal Distribution"
      ]
    },
    {
      "cell_type": "code",
      "metadata": {
        "colab": {
          "base_uri": "https://localhost:8080/",
          "height": 336
        },
        "id": "AQqP3ENIgL9Z",
        "outputId": "f3e34705-117b-45b3-be28-51d748e0d03d"
      },
      "source": [
        "import numpy as np\n",
        "import matplotlib.pyplot as plt\n",
        "from scipy import stats\n",
        "import seaborn as sns\n",
        "\n",
        "\n",
        "distribN = np.random.normal(0, 1, 10000)\n",
        "sns.distplot(distribN, hist = False, kde = True, kde_kws = {'linewidth': 3})"
      ],
      "execution_count": null,
      "outputs": [
        {
          "output_type": "stream",
          "text": [
            "/usr/local/lib/python3.7/dist-packages/seaborn/distributions.py:2557: FutureWarning: `distplot` is a deprecated function and will be removed in a future version. Please adapt your code to use either `displot` (a figure-level function with similar flexibility) or `kdeplot` (an axes-level function for kernel density plots).\n",
            "  warnings.warn(msg, FutureWarning)\n"
          ],
          "name": "stderr"
        },
        {
          "output_type": "execute_result",
          "data": {
            "text/plain": [
              "<matplotlib.axes._subplots.AxesSubplot at 0x7f1e00fcdc90>"
            ]
          },
          "metadata": {
            "tags": []
          },
          "execution_count": 4
        },
        {
          "output_type": "display_data",
          "data": {
            "image/png": "[encoded data removed]",
            "text/plain": [
              "<Figure size 432x288 with 1 Axes>"
            ]
          },
          "metadata": {
            "tags": [],
            "needs_background": "light"
          }
        }
      ]
    },
    {
      "cell_type": "markdown",
      "metadata": {
        "id": "gOytehgLgofw"
      },
      "source": [
        "Weibull"
      ]
    },
    {
      "cell_type": "code",
      "metadata": {
        "colab": {
          "base_uri": "https://localhost:8080/",
          "height": 336
        },
        "id": "sWSVYjEmgn6A",
        "outputId": "d693cc23-7235-4e66-9c38-956dd5e4d898"
      },
      "source": [
        "\n",
        "distribW = np.random.weibull(2, 10000)\n",
        "sns.distplot(distribW, hist = False, kde = True, kde_kws = {'linewidth': 3})"
      ],
      "execution_count": null,
      "outputs": [
        {
          "output_type": "stream",
          "text": [
            "/usr/local/lib/python3.7/dist-packages/seaborn/distributions.py:2557: FutureWarning: `distplot` is a deprecated function and will be removed in a future version. Please adapt your code to use either `displot` (a figure-level function with similar flexibility) or `kdeplot` (an axes-level function for kernel density plots).\n",
            "  warnings.warn(msg, FutureWarning)\n"
          ],
          "name": "stderr"
        },
        {
          "output_type": "execute_result",
          "data": {
            "text/plain": [
              "<matplotlib.axes._subplots.AxesSubplot at 0x7f1dfe45b050>"
            ]
          },
          "metadata": {
            "tags": []
          },
          "execution_count": 5
        },
        {
          "output_type": "display_data",
          "data": {
            "image/png": "[encoded data removed]",
            "text/plain": [
              "<Figure size 432x288 with 1 Axes>"
            ]
          },
          "metadata": {
            "tags": [],
            "needs_background": "light"
          }
        }
      ]
    },
    {
      "cell_type": "code",
      "metadata": {
        "colab": {
          "base_uri": "https://localhost:8080/",
          "height": 336
        },
        "id": "V4DKpSivNs43",
        "outputId": "b5a5b0a0-8361-4796-88dc-2cd1e800345f"
      },
      "source": [
        "import numpy as np\n",
        "import seaborn as sns\n",
        "\n",
        "DE = np.random.exponential(0.5, 10000)\n",
        "sns.distplot(DE, hist = False, kde = True, kde_kws = {'linewidth': 3})"
      ],
      "execution_count": null,
      "outputs": [
        {
          "output_type": "stream",
          "text": [
            "/usr/local/lib/python3.7/dist-packages/seaborn/distributions.py:2557: FutureWarning: `distplot` is a deprecated function and will be removed in a future version. Please adapt your code to use either `displot` (a figure-level function with similar flexibility) or `kdeplot` (an axes-level function for kernel density plots).\n",
            "  warnings.warn(msg, FutureWarning)\n"
          ],
          "name": "stderr"
        },
        {
          "output_type": "execute_result",
          "data": {
            "text/plain": [
              "<matplotlib.axes._subplots.AxesSubplot at 0x7fc01f5ed5d0>"
            ]
          },
          "metadata": {
            "tags": []
          },
          "execution_count": 8
        },
        {
          "output_type": "display_data",
          "data": {
            "image/png": "[encoded data removed]",
            "text/plain": [
              "<Figure size 432x288 with 1 Axes>"
            ]
          },
          "metadata": {
            "tags": [],
            "needs_background": "light"
          }
        }
      ]
    },
    {
      "cell_type": "markdown",
      "metadata": {
        "id": "YSGgKfC4g-Rp"
      },
      "source": [
        "Pareto"
      ]
    },
    {
      "cell_type": "code",
      "metadata": {
        "colab": {
          "base_uri": "https://localhost:8080/",
          "height": 336
        },
        "id": "cWq-9WmVhBpJ",
        "outputId": "3e4cddd9-7570-42d0-f5a9-7e5d78c0e54e"
      },
      "source": [
        "import seaborn as sns\n",
        "\n",
        "\n",
        "distribP = np.random.pareto(1.5, 10000)\n",
        "sns.distplot(distribP, hist = False, kde = True, kde_kws = {'linewidth': 3})"
      ],
      "execution_count": null,
      "outputs": [
        {
          "output_type": "stream",
          "text": [
            "/usr/local/lib/python3.7/dist-packages/seaborn/distributions.py:2557: FutureWarning: `distplot` is a deprecated function and will be removed in a future version. Please adapt your code to use either `displot` (a figure-level function with similar flexibility) or `kdeplot` (an axes-level function for kernel density plots).\n",
            "  warnings.warn(msg, FutureWarning)\n"
          ],
          "name": "stderr"
        },
        {
          "output_type": "execute_result",
          "data": {
            "text/plain": [
              "<matplotlib.axes._subplots.AxesSubplot at 0x7fc0236fe290>"
            ]
          },
          "metadata": {
            "tags": []
          },
          "execution_count": 9
        },
        {
          "output_type": "display_data",
          "data": {
            "image/png": "[encoded data removed]",
            "text/plain": [
              "<Figure size 432x288 with 1 Axes>"
            ]
          },
          "metadata": {
            "tags": [],
            "needs_background": "light"
          }
        }
      ]
    },
    {
      "cell_type": "markdown",
      "metadata": {
        "id": "2nEb6GgGkO0T"
      },
      "source": [
        "CCDF Normal Distribution"
      ]
    },
    {
      "cell_type": "code",
      "metadata": {
        "colab": {
          "base_uri": "https://localhost:8080/",
          "height": 279
        },
        "id": "_ILD2dwRkMs2",
        "outputId": "ff3d42e5-8abb-4dbc-ff48-5d3f3a8eac98"
      },
      "source": [
        "CCDF(distribN)"
      ],
      "execution_count": null,
      "outputs": [
        {
          "output_type": "display_data",
          "data": {
            "image/png": "[encoded data removed]",
            "text/plain": [
              "<Figure size 432x288 with 1 Axes>"
            ]
          },
          "metadata": {
            "tags": [],
            "needs_background": "light"
          }
        }
      ]
    },
    {
      "cell_type": "markdown",
      "metadata": {
        "id": "BlDvUpH7kPyU"
      },
      "source": [
        "CCDF Weibull Distribution"
      ]
    },
    {
      "cell_type": "code",
      "metadata": {
        "colab": {
          "base_uri": "https://localhost:8080/",
          "height": 279
        },
        "id": "VFUND5uekN6B",
        "outputId": "9aab6e5c-415a-465e-e2ae-ad5a1783433d"
      },
      "source": [
        "CCDF(distribW)"
      ],
      "execution_count": null,
      "outputs": [
        {
          "output_type": "display_data",
          "data": {
            "image/png": "[encoded data removed]",
            "text/plain": [
              "<Figure size 432x288 with 1 Axes>"
            ]
          },
          "metadata": {
            "tags": [],
            "needs_background": "light"
          }
        }
      ]
    },
    {
      "cell_type": "markdown",
      "metadata": {
        "id": "WHW4TtaNjzWf"
      },
      "source": [
        "CCDF Pareto Pareto Distribution"
      ]
    },
    {
      "cell_type": "code",
      "metadata": {
        "colab": {
          "base_uri": "https://localhost:8080/",
          "height": 279
        },
        "id": "WiqrJ4dMjky2",
        "outputId": "550e88e3-2344-422c-f001-e8046c87e3d3"
      },
      "source": [
        "CCDF(distribP)"
      ],
      "execution_count": null,
      "outputs": [
        {
          "output_type": "display_data",
          "data": {
            "image/png": "[encoded data removed]",
            "text/plain": [
              "<Figure size 432x288 with 1 Axes>"
            ]
          },
          "metadata": {
            "tags": [],
            "needs_background": "light"
          }
        }
      ]
    },
    {
      "cell_type": "code",
      "metadata": {
        "id": "R3C6jhrV1rAI"
      },
      "source": [
        ""
      ],
      "execution_count": null,
      "outputs": []
    },
    {
      "cell_type": "markdown",
      "metadata": {
        "id": "rKQXG1RU6ad4"
      },
      "source": [
        "b) Selecting a model\n",
        "When observing the CCDF this data, what can you say about the distribution and its tail? To help\n",
        "you, generate random numbers distributed according to Normal, Weibull, and Pareto distributions\n",
        "(see lecture slides to remember how to do this), and have a look at the CCDF for them.\n",
        "<br>\n",
        "##Q3.1 - Model - MCQ: Choose among the following which ones seem possibly correct:\n",
        "<br>\n",
        "1. The tail is similar to a strict heavy-tailed distribution, i.e., it fits a straight line on the CCDF.\n",
        "<br>\n",
        "2. The tail is falling fast enough to be an exponential distribution.\n",
        "<br>\n",
        "3. The tail is falling fast enough to be either an exponential or an extreme value distribution. "
      ]
    },
    {
      "cell_type": "markdown",
      "metadata": {
        "id": "Ac8JkVvR--ld"
      },
      "source": [
        "Answer: I believe number 3 to be correct\n",
        "<br>\n",
        "3. The tail is falling fast enough to be either an exponential or an extreme value distribution. \n",
        "<br>\n",
        "As we can see the first drop followed by stagnation and then followed by another drop may suggest either one the Exponential or Extreme. "
      ]
    },
    {
      "cell_type": "code",
      "metadata": {
        "colab": {
          "base_uri": "https://localhost:8080/",
          "height": 279
        },
        "id": "fBZ_Rw286gdu",
        "outputId": "76297722-a0c8-4d11-e252-89ff0afde3e0"
      },
      "source": [
        "CCDF(data2)"
      ],
      "execution_count": null,
      "outputs": [
        {
          "output_type": "display_data",
          "data": {
            "image/png": "[encoded data removed]",
            "text/plain": [
              "<Figure size 432x288 with 1 Axes>"
            ]
          },
          "metadata": {
            "tags": [],
            "needs_background": "light"
          }
        }
      ]
    },
    {
      "cell_type": "code",
      "metadata": {
        "colab": {
          "base_uri": "https://localhost:8080/",
          "height": 350
        },
        "id": "cpTuc0UM7-6k",
        "outputId": "0e0de3e1-9805-43a7-9ca2-3d96061f6af4"
      },
      "source": [
        "import seaborn as sns\n",
        "\n",
        "\n",
        "distribP = data2\n",
        "sns.distplot(distribP, hist = False, kde = True, kde_kws = {'linewidth': 3})"
      ],
      "execution_count": null,
      "outputs": [
        {
          "output_type": "stream",
          "text": [
            "/usr/local/lib/python3.7/dist-packages/seaborn/distributions.py:2557: FutureWarning: `distplot` is a deprecated function and will be removed in a future version. Please adapt your code to use either `displot` (a figure-level function with similar flexibility) or `kdeplot` (an axes-level function for kernel density plots).\n",
            "  warnings.warn(msg, FutureWarning)\n"
          ],
          "name": "stderr"
        },
        {
          "output_type": "execute_result",
          "data": {
            "text/plain": [
              "<matplotlib.axes._subplots.AxesSubplot at 0x7f1dfdfd4590>"
            ]
          },
          "metadata": {
            "tags": []
          },
          "execution_count": 6
        },
        {
          "output_type": "display_data",
          "data": {
            "image/png": "[encoded data removed]",
            "text/plain": [
              "<Figure size 432x288 with 1 Axes>"
            ]
          },
          "metadata": {
            "tags": [],
            "needs_background": "light"
          }
        }
      ]
    },
    {
      "cell_type": "markdown",
      "metadata": {
        "id": "L43TMmCJeqhD"
      },
      "source": [
        "##Q3.2 - Model - Open: When observing the CCDF of the data (not the randomly generated numbers),\n",
        "what model do you think is the most relevant?"
      ]
    },
    {
      "cell_type": "markdown",
      "metadata": {
        "id": "hJOzUnXY_rGV"
      },
      "source": [
        "Answer: I think that out of the selected models the normal distribution is the most relevant because the distribution itself due to the fist drop suggests to be from the exponential family however in Normal Distribution it can go into negative which is not observed here. Outside from the selection of models provided the bimodal poisson distribution could fit the data best due to the data showing a number of events over time and a possible two modes  represented by the first down slope followed by the next."
      ]
    },
    {
      "cell_type": "markdown",
      "metadata": {
        "id": "6LTkkw6lAqRw"
      },
      "source": [
        "c) Estimating distribution parameters\n",
        "Let’s assume for now that the distribution is not a heavy-tailed one, but either an extreme value or\n",
        "an exponential. This leaves with a lot of options, e.g., Weibull, Gamma, logistic, Normal, Poisson.\n",
        "Now, we need to estimate the parameters of the candidate distributions, i.e., step 2 of the\n",
        "methodology.\n",
        "Estimate the parameters of a few candidate distributions using the maximum likelihood estimation\n",
        "(MLE) method. Check the following distributions: Normal, Exponential, Gamma, and Lognorm. The\n",
        "first two are exponential distributions, while the last two are extreme value distributions. "
      ]
    },
    {
      "cell_type": "markdown",
      "metadata": {
        "id": "Y5VFNzl8CMuw"
      },
      "source": [
        "MLE Normal Distribution"
      ]
    },
    {
      "cell_type": "code",
      "metadata": {
        "id": "d_Fw0bAnB1aG"
      },
      "source": [
        "import scipy \n",
        "dist = getattr(scipy.stats, 'norm')\n",
        "paramN = dist.fit(data2)"
      ],
      "execution_count": null,
      "outputs": []
    },
    {
      "cell_type": "code",
      "metadata": {
        "colab": {
          "base_uri": "https://localhost:8080/"
        },
        "id": "gDY2vaX8CHHS",
        "outputId": "b3379cd5-f988-45ce-bf78-e0f2c8ffb214"
      },
      "source": [
        "paramN"
      ],
      "execution_count": null,
      "outputs": [
        {
          "output_type": "execute_result",
          "data": {
            "text/plain": [
              "(21.69, 11.647896805861562)"
            ]
          },
          "metadata": {
            "tags": []
          },
          "execution_count": 22
        }
      ]
    },
    {
      "cell_type": "markdown",
      "metadata": {
        "id": "KN8W04QXDYqw"
      },
      "source": [
        "MLE Exponential Distribution"
      ]
    },
    {
      "cell_type": "code",
      "metadata": {
        "id": "ISWzhvrjCZdn"
      },
      "source": [
        "dist = getattr(scipy.stats, 'expon')\n",
        "paramE = dist.fit(data2)"
      ],
      "execution_count": null,
      "outputs": []
    },
    {
      "cell_type": "code",
      "metadata": {
        "colab": {
          "base_uri": "https://localhost:8080/"
        },
        "id": "e2oCil3WRmev",
        "outputId": "ab2483a7-066c-492f-cd7f-03a37510cc89"
      },
      "source": [
        ""
      ],
      "execution_count": null,
      "outputs": [
        {
          "output_type": "stream",
          "text": [
            "Object `scipy.stats` not found.\n"
          ],
          "name": "stdout"
        }
      ]
    },
    {
      "cell_type": "code",
      "metadata": {
        "colab": {
          "base_uri": "https://localhost:8080/"
        },
        "id": "R0LqR-CjDPur",
        "outputId": "9eb068ef-43bc-4ff6-caa1-270ff471de24"
      },
      "source": [
        "paramE"
      ],
      "execution_count": null,
      "outputs": [
        {
          "output_type": "execute_result",
          "data": {
            "text/plain": [
              "(1.0, 20.69)"
            ]
          },
          "metadata": {
            "tags": []
          },
          "execution_count": 17
        }
      ]
    },
    {
      "cell_type": "markdown",
      "metadata": {
        "id": "QsKLZH8TEKBr"
      },
      "source": [
        "MLE Gamma Distribution\n",
        "\n"
      ]
    },
    {
      "cell_type": "code",
      "metadata": {
        "id": "_83ZhOJLENOx"
      },
      "source": [
        "dist = getattr(scipy.stats, 'gamma')\n",
        "paramG = dist.fit(data2)"
      ],
      "execution_count": null,
      "outputs": []
    },
    {
      "cell_type": "code",
      "metadata": {
        "colab": {
          "base_uri": "https://localhost:8080/"
        },
        "id": "2ATnH8y9EObZ",
        "outputId": "93235292-119f-4815-86b5-49bc472dca4f"
      },
      "source": [
        "paramG"
      ],
      "execution_count": null,
      "outputs": [
        {
          "output_type": "execute_result",
          "data": {
            "text/plain": [
              "(276.8794890535214, -175.3586760889923, 0.7115100785350288)"
            ]
          },
          "metadata": {
            "tags": []
          },
          "execution_count": 26
        }
      ]
    },
    {
      "cell_type": "markdown",
      "metadata": {
        "id": "m5vPnD5PFGDE"
      },
      "source": [
        "MLE Lognorm"
      ]
    },
    {
      "cell_type": "code",
      "metadata": {
        "id": "Lgewy4AuFLKA"
      },
      "source": [
        "dist = getattr(scipy.stats, 'lognorm')\n",
        "paramL = dist.fit(data2)"
      ],
      "execution_count": null,
      "outputs": []
    },
    {
      "cell_type": "code",
      "metadata": {
        "colab": {
          "base_uri": "https://localhost:8080/"
        },
        "id": "G7yKWeiJFYcj",
        "outputId": "b1d85adf-5ad9-4f09-d354-97cb84290e97"
      },
      "source": [
        "paramL"
      ],
      "execution_count": null,
      "outputs": [
        {
          "output_type": "execute_result",
          "data": {
            "text/plain": [
              "(0.00713012917387662, -1617.9885155458996, 1639.6527728478004)"
            ]
          },
          "metadata": {
            "tags": []
          },
          "execution_count": 20
        }
      ]
    },
    {
      "cell_type": "markdown",
      "metadata": {
        "id": "2rFJ3A7LFevR"
      },
      "source": [
        "##Q3.3 - Estimating distribution parameters: Select which one(s) of the following assertions about the\n",
        "value of the fitted parameters by MLE is (are) correct."
      ]
    },
    {
      "cell_type": "markdown",
      "metadata": {
        "id": "ImZ2KwkLG8su"
      },
      "source": [
        "Correct:\n",
        "1. The standard deviation fitted by MLE for the normal distribution is high, i.e., much higher than 1.\n",
        "\n"
      ]
    },
    {
      "cell_type": "markdown",
      "metadata": {
        "id": "SNMA89UmWeVe"
      },
      "source": [
        "##Q3.4 - Checking the fit based on the qqplot: Based on the visual inspection of the 4 different qqplots,\n",
        "which one(s) of the following assertions is (are) correct:\n",
        "1. The Normal distribution fits the data well.\n",
        "2. The Exponential distribution fits the data well.\n",
        "3. The Gamma distribution fits the data well.\n",
        "4. The Lognorm distribution fits the data well.\n",
        "5. None of the mentioned distributions fit the data well."
      ]
    },
    {
      "cell_type": "markdown",
      "metadata": {
        "id": "S9Z1XI9UZ2YP"
      },
      "source": [
        "Answer: \n",
        "<br>\n",
        "the point '5. None of the mentioned distributions fit the data well.' is correct as shown above the data doesn't fit any of the models."
      ]
    },
    {
      "cell_type": "markdown",
      "metadata": {
        "id": "xxPClqDeW-RH"
      },
      "source": [
        "Normal Distribution"
      ]
    },
    {
      "cell_type": "code",
      "metadata": {
        "id": "Guu5538n0vJ6"
      },
      "source": [
        ""
      ],
      "execution_count": null,
      "outputs": []
    },
    {
      "cell_type": "code",
      "metadata": {
        "colab": {
          "base_uri": "https://localhost:8080/",
          "height": 595
        },
        "id": "aaU__EQExpo2",
        "outputId": "bc83c12a-521d-4789-a09d-6a432966a2a2"
      },
      "source": [
        "from statsmodels.api import qqplot\n",
        "import scipy\n",
        "\n",
        "\n",
        "qqplot(data2, dist=scipy.stats.norm, line='s')"
      ],
      "execution_count": null,
      "outputs": [
        {
          "output_type": "stream",
          "text": [
            "/usr/local/lib/python3.7/dist-packages/statsmodels/tools/_testing.py:19: FutureWarning: pandas.util.testing is deprecated. Use the functions in the public API at pandas.testing instead.\n",
            "  import pandas.util.testing as tm\n"
          ],
          "name": "stderr"
        },
        {
          "output_type": "execute_result",
          "data": {
            "image/png": "[encoded data removed]",
            "text/plain": [
              "<Figure size 432x288 with 1 Axes>"
            ]
          },
          "metadata": {
            "tags": []
          },
          "execution_count": 8
        },
        {
          "output_type": "display_data",
          "data": {
            "image/png": "[encoded data removed]",
            "text/plain": [
              "<Figure size 432x288 with 1 Axes>"
            ]
          },
          "metadata": {
            "tags": [],
            "needs_background": "light"
          }
        }
      ]
    },
    {
      "cell_type": "markdown",
      "metadata": {
        "id": "7DPZ37CMXD33"
      },
      "source": [
        "Exponential Distribution"
      ]
    },
    {
      "cell_type": "code",
      "metadata": {
        "colab": {
          "base_uri": "https://localhost:8080/",
          "height": 541
        },
        "id": "GcngFZzV0zZc",
        "outputId": "8a674081-c332-4eea-d275-093b7d9182f0"
      },
      "source": [
        "qqplot(data2, dist=scipy.stats.expon, line= 's')"
      ],
      "execution_count": null,
      "outputs": [
        {
          "output_type": "execute_result",
          "data": {
            "image/png": "[encoded data removed]",
            "text/plain": [
              "<Figure size 432x288 with 1 Axes>"
            ]
          },
          "metadata": {
            "tags": []
          },
          "execution_count": 24
        },
        {
          "output_type": "display_data",
          "data": {
            "image/png": "[encoded data removed]",
            "text/plain": [
              "<Figure size 432x288 with 1 Axes>"
            ]
          },
          "metadata": {
            "tags": [],
            "needs_background": "light"
          }
        }
      ]
    },
    {
      "cell_type": "markdown",
      "metadata": {
        "id": "vY3jMQizX5ao"
      },
      "source": [
        "Gamma Distribution"
      ]
    },
    {
      "cell_type": "code",
      "metadata": {
        "id": "Ny7k7cm3gKVf"
      },
      "source": [
        "\n",
        " "
      ],
      "execution_count": null,
      "outputs": []
    },
    {
      "cell_type": "code",
      "metadata": {
        "id": "rntiC4Y4X0qq"
      },
      "source": [
        "#Plotting Gamma Distribution\n",
        "distribG = np.random.gamma(20, 1, 10000)\n"
      ],
      "execution_count": null,
      "outputs": []
    },
    {
      "cell_type": "code",
      "metadata": {
        "colab": {
          "base_uri": "https://localhost:8080/",
          "height": 296
        },
        "id": "Gx0q-yKkis2U",
        "outputId": "00dc9061-c3d7-4794-eb3e-e24532d963eb"
      },
      "source": [
        "\n",
        "import statsmodels.api as sm\n",
        "import numpy as np\n",
        "import matplotlib.pyplot as plt\n",
        "from statsmodels.graphics.gofplots import qqplot_2samples\n",
        "x = distribG\n",
        "y = data2\n",
        "pp_x = sm.ProbPlot(x)\n",
        "pp_y = sm.ProbPlot(y)\n",
        "qqplot_2samples(pp_x, pp_y, line='45')\n",
        "plt.show()\n",
        "print('Gamma Distribution')"
      ],
      "execution_count": null,
      "outputs": [
        {
          "output_type": "display_data",
          "data": {
            "image/png": "[encoded data removed]",
            "text/plain": [
              "<Figure size 432x288 with 1 Axes>"
            ]
          },
          "metadata": {
            "tags": [],
            "needs_background": "light"
          }
        },
        {
          "output_type": "stream",
          "text": [
            "Gamma Distribution\n"
          ],
          "name": "stdout"
        }
      ]
    },
    {
      "cell_type": "markdown",
      "metadata": {
        "id": "VdDpZNZNZMY7"
      },
      "source": [
        "Lognorm Distrubution"
      ]
    },
    {
      "cell_type": "code",
      "metadata": {
        "id": "KTjSqlevZbcO"
      },
      "source": [
        "distribLN = np.random.lognormal(1, 1, 10000)"
      ],
      "execution_count": null,
      "outputs": []
    },
    {
      "cell_type": "code",
      "metadata": {
        "id": "Q_mZZMmaZdSw",
        "colab": {
          "base_uri": "https://localhost:8080/",
          "height": 296
        },
        "outputId": "e06c84a1-c6cc-40c0-f69a-9aaf11e825cd"
      },
      "source": [
        "import statsmodels.api as sm\n",
        "import numpy as np\n",
        "import matplotlib.pyplot as plt\n",
        "from statsmodels.graphics.gofplots import qqplot_2samples\n",
        "x = distribLN\n",
        "y = data2\n",
        "pp_x = sm.ProbPlot(x)\n",
        "pp_y = sm.ProbPlot(y)\n",
        "qqplot_2samples(pp_x, pp_y, line='45')\n",
        "plt.show()\n",
        "print('Lognorm Distribution')"
      ],
      "execution_count": null,
      "outputs": [
        {
          "output_type": "display_data",
          "data": {
            "image/png": "[encoded data removed]",
            "text/plain": [
              "<Figure size 432x288 with 1 Axes>"
            ]
          },
          "metadata": {
            "tags": [],
            "needs_background": "light"
          }
        },
        {
          "output_type": "stream",
          "text": [
            "Lognorm Distribution\n"
          ],
          "name": "stdout"
        }
      ]
    },
    {
      "cell_type": "markdown",
      "metadata": {
        "id": "V0NZBGf2mHt7"
      },
      "source": [
        "##Q3.5 - K-S test p-value: Based on the p-values returned by ks.test(), how many distributions fit the data?"
      ]
    },
    {
      "cell_type": "markdown",
      "metadata": {
        "id": "g1mzs3LBAUBj"
      },
      "source": [
        "All distributions are rejcting the null hypotesis meaning that they don't fit the data. \n",
        "\n",
        "Answer: 1. 0 Fit the data"
      ]
    },
    {
      "cell_type": "code",
      "metadata": {
        "id": "0PdETqffkriB"
      },
      "source": [
        "import numpy as np\n",
        "from matplotlib import pyplot as plt\n",
        "from scipy import stats\n",
        "import scipy\n",
        "\n",
        "def ksTest(distribution, data):\n",
        "    p_values = []\n",
        "\n",
        "    dist = getattr(scipy.stats, distribution)\n",
        "    param = dist.fit(data)\n",
        "\n",
        "    p = scipy.stats.kstest(data, distribution, args=param)\n",
        "    p_values.append(p)\n",
        "    \n",
        "    print(distribution + ': ' + str(p) + ' -- Params: ' + str(param))"
      ],
      "execution_count": null,
      "outputs": []
    },
    {
      "cell_type": "code",
      "metadata": {
        "colab": {
          "base_uri": "https://localhost:8080/"
        },
        "id": "iGsZBkjlktOQ",
        "outputId": "6013c388-bfdc-4630-ca68-446d414b49a3"
      },
      "source": [
        "ksTest('norm', data2)\n",
        "ksTest('expon', data2)\n",
        "ksTest('gamma', data2)\n",
        "ksTest('lognorm', data2)"
      ],
      "execution_count": null,
      "outputs": [
        {
          "output_type": "stream",
          "text": [
            "norm: KstestResult(statistic=0.12728465248593357, pvalue=3.7810060439864886e-141) -- Params: (21.69, 11.647896805861562)\n",
            "expon: KstestResult(statistic=0.2850957655169518, pvalue=0.0) -- Params: (1.0, 20.69)\n",
            "gamma: KstestResult(statistic=0.1270743361069419, pvalue=1.102215515622734e-140) -- Params: (276.8794890535214, -175.3586760889923, 0.7115100785350288)\n",
            "lognorm: KstestResult(statistic=0.1273355912005128, pvalue=2.9170988125764754e-141) -- Params: (0.00713012917387662, -1617.9885155458996, 1639.6527728478004)\n"
          ],
          "name": "stdout"
        }
      ]
    },
    {
      "cell_type": "markdown",
      "metadata": {
        "id": "JSiFrRonCKZk"
      },
      "source": [
        "##Q3.6 - KS-test distance: Relying on the p-value of the test is a very strict hypothesis test, given that\n",
        "KS is a very sensitive test. If you were to rely only on the distance D of the KS test and not the pvalue, which distribution fits best the data?"
      ]
    },
    {
      "cell_type": "markdown",
      "metadata": {
        "id": "k4sAoxOYEuIy"
      },
      "source": [
        "Answer: Gamma Distribution hast the lowest maximum distance (D) meaning it is the closest to the distribution. This suggests that the data is likely to fit this distribution. "
      ]
    },
    {
      "cell_type": "markdown",
      "metadata": {
        "id": "Cnrr0bAuFNoM"
      },
      "source": [
        "##e) Reflection\n",
        "<br>\n",
        "Given that the data is likely to be distributed according to a distribution of a specific class, reflect on\n",
        "what you might have done differently to improve the fit to the data. Consider the following options:\n",
        "\n",
        "Trimming the data;\n",
        "<br>\n",
        " Using a different subset of the Twitter dataset;\n",
        " <br>\n",
        " Considering additional distributions for a given class of distributions;\n",
        " <br>\n",
        " Using a different test than KS, e.g., Shapiro-Wilkes."
      ]
    },
    {
      "cell_type": "markdown",
      "metadata": {
        "id": "evXiKupkFrNB"
      },
      "source": [
        "Answer:There are many way I could have implemented to improve the fit to the data. One of them would be to get more subsets of the Twitter dataset and using the QQplots to visually check whether the distributions are similar or if the a number of different subsets match eachother to see what's the likely distribution of the whole population. I could also use the KS test to compare the distributions to see whether they are the same even if the shape of the distributions is different. This would allow me to see if I need to look into trying to fit the data into a different distributions if the selected subsents turned out to not fit the same distribution as the first subset. I wouldn't have used the Shapiro-Wilk test on the data as we have a specified mean and variance for this data. The Chi- Square would also wouldn't be useful as the data is not binned, binning the data would affect the Chi-square test depending on how it has been binned.\n",
        "As based on the graphs such as the qq plot I can see that there are some extreme values I could implement triming on the sets of data and compare them again in order to see whether or not they now fit better. Doing that I need to be councious to only trim the extreme values in order to not misinterpret the distribution."
      ]
    },
    {
      "cell_type": "markdown",
      "metadata": {
        "id": "MZWY29w9BAnX"
      },
      "source": [
        "##Q3.7 - Which one(s) of these options would you be willing to rely on, and which one(s) do you\n",
        "believe might have made a difference in the outcome of the fitting attempt? "
      ]
    },
    {
      "cell_type": "markdown",
      "metadata": {
        "id": "ZXyu4P60BHJo"
      },
      "source": [
        "Answer: I would rely on trimming the extreme value as this would give me a better view of the fitment of the model especially when compared to the subsets of different twitter dataset. Box plots could have been used to visulise the extreme values and give us an idea of the spread of the distribution before trimming in order to make sure the the possible bimodal distribution isn't trimmed to the point where one of smaller mode is discarded.\n",
        "\n",
        "Comparing the disrtibutions of the trimmed subsets of a different dataset to our data would give us an idea whether in general the fitment of the data to a particular distribution is correct and what the possible distribution of the whole possible could be . This could have been done through comparing the subsets with QQplots and KS Test comparing the distributions.  If it turns out that the distributions do not match, I could look into seeing the fitment to different distributions such as weibull or poisson/bimodal poisson distributions to see if they fit better rather than limiting myself to the 4 tested."
      ]
    }
  ]
}